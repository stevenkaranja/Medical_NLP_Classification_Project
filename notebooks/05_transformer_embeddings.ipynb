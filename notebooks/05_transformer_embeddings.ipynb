{
 "cells": [
  {
   "cell_type": "code",
   "execution_count": 2,
   "id": "e24dbfad",
   "metadata": {},
   "outputs": [],
   "source": [
    "import pandas as pd\n",
    "import joblib\n",
    "from sklearn.model_selection import train_test_split\n",
    "from sklearn.linear_model import LogisticRegression\n",
    "from sklearn.metrics import accuracy_score, f1_score, classification_report\n",
    "from sentence_transformers import SentenceTransformer\n",
    "import numpy as np\n",
    "\n",
    "# Loading the cleaned dataset\n",
    "\n",
    "df = pd.read_csv('C:/Users/HomePC/Documents/DA Projects/Med NLP classification Proj/data/processed/cleaned_mtsamples.csv')\n",
    "df = df.dropna(subset=['cleaned_text', 'medical_specialty'])\n",
    "\n",
    "# Encoding target\n",
    "from sklearn.preprocessing import LabelEncoder\n",
    "le = LabelEncoder()\n",
    "df['label'] = le.fit_transform(df['medical_specialty'])\n",
    "\n",
    "# Spliting the data\n",
    "x_train, x_test, y_train, y_test = train_test_split(\n",
    "    df['cleaned_text'], df['label'], test_size=0.2, random_state=42, stratify=df['label']\n",
    ")"
   ]
  },
  {
   "cell_type": "code",
   "execution_count": 3,
   "id": "949be992",
   "metadata": {},
   "outputs": [
    {
     "data": {
      "application/vnd.jupyter.widget-view+json": {
       "model_id": "95e400c1af8f4285be1961c22b9bd7a8",
       "version_major": 2,
       "version_minor": 0
      },
      "text/plain": [
       "modules.json:   0%|          | 0.00/349 [00:00<?, ?B/s]"
      ]
     },
     "metadata": {},
     "output_type": "display_data"
    },
    {
     "name": "stderr",
     "output_type": "stream",
     "text": [
      "c:\\Users\\HomePC\\Documents\\DA Projects\\Med NLP classification Proj\\venv\\Lib\\site-packages\\huggingface_hub\\file_download.py:143: UserWarning: `huggingface_hub` cache-system uses symlinks by default to efficiently store duplicated files but your machine does not support them in C:\\Users\\HomePC\\.cache\\huggingface\\hub\\models--sentence-transformers--all-MiniLM-L6-v2. Caching files will still work but in a degraded version that might require more space on your disk. This warning can be disabled by setting the `HF_HUB_DISABLE_SYMLINKS_WARNING` environment variable. For more details, see https://huggingface.co/docs/huggingface_hub/how-to-cache#limitations.\n",
      "To support symlinks on Windows, you either need to activate Developer Mode or to run Python as an administrator. In order to activate developer mode, see this article: https://docs.microsoft.com/en-us/windows/apps/get-started/enable-your-device-for-development\n",
      "  warnings.warn(message)\n"
     ]
    },
    {
     "data": {
      "application/vnd.jupyter.widget-view+json": {
       "model_id": "7c8e131ea82d4a1383808efb1aba22ee",
       "version_major": 2,
       "version_minor": 0
      },
      "text/plain": [
       "config_sentence_transformers.json:   0%|          | 0.00/116 [00:00<?, ?B/s]"
      ]
     },
     "metadata": {},
     "output_type": "display_data"
    },
    {
     "data": {
      "application/vnd.jupyter.widget-view+json": {
       "model_id": "5768a8f9ceb14a1ca2398eb469a860ca",
       "version_major": 2,
       "version_minor": 0
      },
      "text/plain": [
       "README.md: 0.00B [00:00, ?B/s]"
      ]
     },
     "metadata": {},
     "output_type": "display_data"
    },
    {
     "data": {
      "application/vnd.jupyter.widget-view+json": {
       "model_id": "962407e723e94bddaedc0fd666e7d061",
       "version_major": 2,
       "version_minor": 0
      },
      "text/plain": [
       "sentence_bert_config.json:   0%|          | 0.00/53.0 [00:00<?, ?B/s]"
      ]
     },
     "metadata": {},
     "output_type": "display_data"
    },
    {
     "data": {
      "application/vnd.jupyter.widget-view+json": {
       "model_id": "b784318fd5954f35b959a1801ac2fd22",
       "version_major": 2,
       "version_minor": 0
      },
      "text/plain": [
       "config.json:   0%|          | 0.00/612 [00:00<?, ?B/s]"
      ]
     },
     "metadata": {},
     "output_type": "display_data"
    },
    {
     "name": "stderr",
     "output_type": "stream",
     "text": [
      "Xet Storage is enabled for this repo, but the 'hf_xet' package is not installed. Falling back to regular HTTP download. For better performance, install the package with: `pip install huggingface_hub[hf_xet]` or `pip install hf_xet`\n"
     ]
    },
    {
     "data": {
      "application/vnd.jupyter.widget-view+json": {
       "model_id": "ae23465b51794d3fa71411c4487faf59",
       "version_major": 2,
       "version_minor": 0
      },
      "text/plain": [
       "model.safetensors:   0%|          | 0.00/90.9M [00:00<?, ?B/s]"
      ]
     },
     "metadata": {},
     "output_type": "display_data"
    },
    {
     "data": {
      "application/vnd.jupyter.widget-view+json": {
       "model_id": "b2788f4ec63644c0bb1ae1a3c1b72092",
       "version_major": 2,
       "version_minor": 0
      },
      "text/plain": [
       "tokenizer_config.json:   0%|          | 0.00/350 [00:00<?, ?B/s]"
      ]
     },
     "metadata": {},
     "output_type": "display_data"
    },
    {
     "data": {
      "application/vnd.jupyter.widget-view+json": {
       "model_id": "73cf4740d2714358a05b922c5de36d97",
       "version_major": 2,
       "version_minor": 0
      },
      "text/plain": [
       "vocab.txt: 0.00B [00:00, ?B/s]"
      ]
     },
     "metadata": {},
     "output_type": "display_data"
    },
    {
     "data": {
      "application/vnd.jupyter.widget-view+json": {
       "model_id": "49ac361b2e854f299c162486b923aa49",
       "version_major": 2,
       "version_minor": 0
      },
      "text/plain": [
       "tokenizer.json: 0.00B [00:00, ?B/s]"
      ]
     },
     "metadata": {},
     "output_type": "display_data"
    },
    {
     "data": {
      "application/vnd.jupyter.widget-view+json": {
       "model_id": "4ef0727cf92e4c8fafc317764a0e3d38",
       "version_major": 2,
       "version_minor": 0
      },
      "text/plain": [
       "special_tokens_map.json:   0%|          | 0.00/112 [00:00<?, ?B/s]"
      ]
     },
     "metadata": {},
     "output_type": "display_data"
    },
    {
     "data": {
      "application/vnd.jupyter.widget-view+json": {
       "model_id": "726250888bc145a1a106f4f974bf3528",
       "version_major": 2,
       "version_minor": 0
      },
      "text/plain": [
       "config.json:   0%|          | 0.00/190 [00:00<?, ?B/s]"
      ]
     },
     "metadata": {},
     "output_type": "display_data"
    }
   ],
   "source": [
    "# Load Transformer Model\n",
    "\n",
    "model = SentenceTransformer('all-MiniLM-L6-v2')"
   ]
  },
  {
   "cell_type": "code",
   "execution_count": 4,
   "id": "8cea8d45",
   "metadata": {},
   "outputs": [
    {
     "data": {
      "application/vnd.jupyter.widget-view+json": {
       "model_id": "b0a5ac75cecc4aa5849f1fb6e5bd4162",
       "version_major": 2,
       "version_minor": 0
      },
      "text/plain": [
       "Batches:   0%|          | 0/125 [00:00<?, ?it/s]"
      ]
     },
     "metadata": {},
     "output_type": "display_data"
    },
    {
     "data": {
      "application/vnd.jupyter.widget-view+json": {
       "model_id": "c3943b2f935f405d91863fcc8fad6801",
       "version_major": 2,
       "version_minor": 0
      },
      "text/plain": [
       "Batches:   0%|          | 0/32 [00:00<?, ?it/s]"
      ]
     },
     "metadata": {},
     "output_type": "display_data"
    },
    {
     "name": "stdout",
     "output_type": "stream",
     "text": [
      "Train embedding shape: (3972, 384)\n",
      "Test embedding shape: (994, 384)\n"
     ]
    }
   ],
   "source": [
    "# Generating embeddings\n",
    "\n",
    "x_train_embeddings = model.encode(x_train.tolist(), batch_size=32, show_progress_bar=True)\n",
    "x_test_embeddings = model.encode(x_test.tolist(), batch_size=32, show_progress_bar=True)\n",
    "\n",
    "print('Train embedding shape:', x_train_embeddings.shape)\n",
    "print('Test embedding shape:', x_test_embeddings.shape)"
   ]
  },
  {
   "cell_type": "code",
   "execution_count": 6,
   "id": "0c39e9cf",
   "metadata": {},
   "outputs": [
    {
     "name": "stdout",
     "output_type": "stream",
     "text": [
      "Accuracy: 0.34004024144869216\n",
      "F1 Score: 0.3097331086627201\n"
     ]
    }
   ],
   "source": [
    "# Training Classifier on embeddings\n",
    "\n",
    "clf = LogisticRegression(max_iter=300)\n",
    "clf.fit(x_train_embeddings, y_train)\n",
    "\n",
    "y_pred = clf.predict(x_test_embeddings)\n",
    "\n",
    "print('Accuracy:', accuracy_score(y_test, y_pred))\n",
    "print('F1 Score:', f1_score(y_test, y_pred, average='weighted'))"
   ]
  },
  {
   "cell_type": "code",
   "execution_count": 7,
   "id": "feb3f78d",
   "metadata": {},
   "outputs": [
    {
     "name": "stdout",
     "output_type": "stream",
     "text": [
      "\n",
      "Classification Report:\n",
      "                                precision    recall  f1-score   support\n",
      "\n",
      "          Allergy / Immunology       0.00      0.00      0.00         1\n",
      "                       Autopsy       0.00      0.00      0.00         2\n",
      "                    Bariatrics       0.00      0.00      0.00         4\n",
      "    Cardiovascular / Pulmonary       0.39      0.47      0.43        74\n",
      "                  Chiropractic       0.00      0.00      0.00         3\n",
      "    Consult - History and Phy.       0.26      0.52      0.35       103\n",
      "    Cosmetic / Plastic Surgery       0.00      0.00      0.00         5\n",
      "                     Dentistry       0.00      0.00      0.00         5\n",
      "                   Dermatology       0.00      0.00      0.00         6\n",
      "          Diets and Nutritions       0.00      0.00      0.00         2\n",
      "             Discharge Summary       1.00      0.14      0.24        22\n",
      "          ENT - Otolaryngology       0.33      0.16      0.21        19\n",
      "        Emergency Room Reports       0.00      0.00      0.00        15\n",
      "                 Endocrinology       0.00      0.00      0.00         4\n",
      "              Gastroenterology       0.33      0.38      0.35        45\n",
      "              General Medicine       0.19      0.13      0.16        52\n",
      "         Hematology - Oncology       0.17      0.06      0.08        18\n",
      "     Hospice - Palliative Care       0.00      0.00      0.00         1\n",
      "        IME-QME-Work Comp etc.       0.00      0.00      0.00         3\n",
      "      Lab Medicine - Pathology       0.00      0.00      0.00         1\n",
      "                       Letters       0.00      0.00      0.00         5\n",
      "                    Nephrology       0.20      0.06      0.10        16\n",
      "                     Neurology       0.39      0.38      0.38        45\n",
      "                  Neurosurgery       0.00      0.00      0.00        19\n",
      "       Obstetrics / Gynecology       0.34      0.35      0.35        31\n",
      "                  Office Notes       0.00      0.00      0.00        10\n",
      "                 Ophthalmology       0.50      0.24      0.32        17\n",
      "                    Orthopedic       0.27      0.37      0.31        71\n",
      "               Pain Management       0.78      0.58      0.67        12\n",
      "         Pediatrics - Neonatal       0.40      0.14      0.21        14\n",
      "     Physical Medicine - Rehab       0.00      0.00      0.00         4\n",
      "                      Podiatry       0.50      0.11      0.18         9\n",
      "       Psychiatry / Psychology       0.67      0.18      0.29        11\n",
      "                     Radiology       0.31      0.29      0.30        55\n",
      "                  Rheumatology       0.00      0.00      0.00         2\n",
      " SOAP / Chart / Progress Notes       0.32      0.18      0.23        33\n",
      "                Sleep Medicine       0.00      0.00      0.00         4\n",
      "             Speech - Language       0.00      0.00      0.00         2\n",
      "                       Surgery       0.40      0.55      0.46       218\n",
      "                       Urology       0.38      0.19      0.26        31\n",
      "\n",
      "                      accuracy                           0.34       994\n",
      "                     macro avg       0.20      0.14      0.15       994\n",
      "                  weighted avg       0.33      0.34      0.31       994\n",
      "\n"
     ]
    },
    {
     "name": "stderr",
     "output_type": "stream",
     "text": [
      "c:\\Users\\HomePC\\Documents\\DA Projects\\Med NLP classification Proj\\venv\\Lib\\site-packages\\sklearn\\metrics\\_classification.py:1731: UndefinedMetricWarning: Precision is ill-defined and being set to 0.0 in labels with no predicted samples. Use `zero_division` parameter to control this behavior.\n",
      "  _warn_prf(average, modifier, f\"{metric.capitalize()} is\", result.shape[0])\n",
      "c:\\Users\\HomePC\\Documents\\DA Projects\\Med NLP classification Proj\\venv\\Lib\\site-packages\\sklearn\\metrics\\_classification.py:1731: UndefinedMetricWarning: Precision is ill-defined and being set to 0.0 in labels with no predicted samples. Use `zero_division` parameter to control this behavior.\n",
      "  _warn_prf(average, modifier, f\"{metric.capitalize()} is\", result.shape[0])\n",
      "c:\\Users\\HomePC\\Documents\\DA Projects\\Med NLP classification Proj\\venv\\Lib\\site-packages\\sklearn\\metrics\\_classification.py:1731: UndefinedMetricWarning: Precision is ill-defined and being set to 0.0 in labels with no predicted samples. Use `zero_division` parameter to control this behavior.\n",
      "  _warn_prf(average, modifier, f\"{metric.capitalize()} is\", result.shape[0])\n"
     ]
    }
   ],
   "source": [
    "# Evaluating the Results\n",
    "\n",
    "print('\\nClassification Report:')\n",
    "print(classification_report(y_test, y_pred, target_names=le.classes_))"
   ]
  },
  {
   "cell_type": "code",
   "execution_count": 8,
   "id": "1f672717",
   "metadata": {},
   "outputs": [
    {
     "name": "stdout",
     "output_type": "stream",
     "text": [
      "Transformer Model and artifacts saved successfully.\n"
     ]
    }
   ],
   "source": [
    "# Save Model and Artifacts\n",
    "\n",
    "joblib.dump(clf, 'C:/Users/HomePC/Documents/DA Projects/Med NLP classification Proj/models/bert_embedding_classifier.pkl')\n",
    "joblib.dump(model, 'C:/Users/HomePC/Documents/DA Projects/Med NLP classification Proj/models/sentence_transformer.pkl')\n",
    "joblib.dump(le, 'C:/Users/HomePC/Documents/DA Projects/Med NLP classification Proj/models/label_encoder.pkl')\n",
    "print(\"Transformer Model and artifacts saved successfully.\")"
   ]
  },
  {
   "cell_type": "code",
   "execution_count": 9,
   "id": "1a793f99",
   "metadata": {},
   "outputs": [
    {
     "name": "stdout",
     "output_type": "stream",
     "text": [
      "Predicted Specialty:  Cardiovascular / Pulmonary\n"
     ]
    }
   ],
   "source": [
    "# Quick Inference Test\n",
    "\n",
    "sample_text = ['Patient presented with chest pain and underwent ECG and angioplasty.']\n",
    "sample_emb = model.encode(sample_text)\n",
    "pred = clf.predict(sample_emb)\n",
    "print('Predicted Specialty:', le.inverse_transform(pred)[0])"
   ]
  },
  {
   "cell_type": "code",
   "execution_count": 16,
   "id": "170be0e9",
   "metadata": {},
   "outputs": [
    {
     "name": "stdout",
     "output_type": "stream",
     "text": [
      "Fitting 3 folds for each of 20 candidates, totalling 60 fits\n",
      "Best Parameters: {'learning_rate': np.float64(0.02733646535077721), 'max_depth': 3, 'max_iter': 149, 'min_samples_leaf': 9}\n",
      "Best F1 Score: 0.176427495710027\n"
     ]
    }
   ],
   "source": [
    "# Randomized Hyperparameter Tuning\n",
    "\n",
    "from sklearn.model_selection import RandomizedSearchCV\n",
    "from scipy.stats import uniform, randint\n",
    "from sklearn.ensemble import HistGradientBoostingClassifier\n",
    "gb_model = HistGradientBoostingClassifier(max_iter=200, random_state=42)\n",
    "\n",
    "# Defining parameter distributions\n",
    "param_dist = {\n",
    "    'max_iter': randint(100, 400),\n",
    "    'learning_rate': uniform(0.01, 0.1),\n",
    "    'max_depth': randint(3, 6),\n",
    "    'min_samples_leaf': randint(2, 10),\n",
    "}\n",
    "\n",
    "# Initialize RandomizedSearchCV\n",
    "random_search = RandomizedSearchCV(\n",
    "    estimator = gb_model,\n",
    "    param_distributions = param_dist,\n",
    "    n_iter = 20,\n",
    "    scoring = 'f1_weighted',\n",
    "    cv = 3,\n",
    "    verbose = 1,\n",
    "    random_state = 42,\n",
    "    n_jobs = -1\n",
    ")\n",
    "\n",
    "# Fit to the training data\n",
    "random_search.fit(x_train_embeddings, y_train)\n",
    "\n",
    "# Print best parameters and score\n",
    "print(\"Best Parameters:\", random_search.best_params_)\n",
    "print(\"Best F1 Score:\", random_search.best_score_)"
   ]
  },
  {
   "cell_type": "code",
   "execution_count": 25,
   "id": "56bddbce",
   "metadata": {},
   "outputs": [
    {
     "name": "stdout",
     "output_type": "stream",
     "text": [
      "Final test Accuracy: 0.12877263581488935\n",
      "Final test F1 Score: 0.12466050386674224\n",
      "\n",
      "Final Classification Report:\n",
      "                                 precision    recall  f1-score   support\n",
      "\n",
      "          Allergy / Immunology       0.00      0.00      0.00         1\n",
      "                       Autopsy       0.00      0.00      0.00         2\n",
      "                    Bariatrics       0.00      0.00      0.00         4\n",
      "    Cardiovascular / Pulmonary       0.15      0.14      0.14        74\n",
      "                  Chiropractic       0.00      0.00      0.00         3\n",
      "    Consult - History and Phy.       0.11      0.14      0.12       103\n",
      "    Cosmetic / Plastic Surgery       0.00      0.00      0.00         5\n",
      "                     Dentistry       0.00      0.00      0.00         5\n",
      "                   Dermatology       0.00      0.00      0.00         6\n",
      "          Diets and Nutritions       0.00      0.00      0.00         2\n",
      "             Discharge Summary       0.00      0.00      0.00        22\n",
      "          ENT - Otolaryngology       0.05      0.05      0.05        19\n",
      "        Emergency Room Reports       0.00      0.00      0.00        15\n",
      "                 Endocrinology       0.00      0.00      0.00         4\n",
      "              Gastroenterology       0.15      0.18      0.16        45\n",
      "              General Medicine       0.14      0.12      0.13        52\n",
      "         Hematology - Oncology       0.00      0.00      0.00        18\n",
      "     Hospice - Palliative Care       0.00      0.00      0.00         1\n",
      "        IME-QME-Work Comp etc.       0.00      0.00      0.00         3\n",
      "      Lab Medicine - Pathology       0.00      0.00      0.00         1\n",
      "                       Letters       0.00      0.00      0.00         5\n",
      "                    Nephrology       0.08      0.06      0.07        16\n",
      "                     Neurology       0.11      0.09      0.10        45\n",
      "                  Neurosurgery       0.00      0.00      0.00        19\n",
      "       Obstetrics / Gynecology       0.15      0.19      0.17        31\n",
      "                  Office Notes       0.00      0.00      0.00        10\n",
      "                 Ophthalmology       0.00      0.00      0.00        17\n",
      "                    Orthopedic       0.14      0.13      0.13        71\n",
      "               Pain Management       0.46      0.50      0.48        12\n",
      "         Pediatrics - Neonatal       0.00      0.00      0.00        14\n",
      "     Physical Medicine - Rehab       0.00      0.00      0.00         4\n",
      "                      Podiatry       0.00      0.00      0.00         9\n",
      "       Psychiatry / Psychology       0.00      0.00      0.00        11\n",
      "                     Radiology       0.11      0.13      0.12        55\n",
      "                  Rheumatology       0.00      0.00      0.00         2\n",
      " SOAP / Chart / Progress Notes       0.04      0.03      0.03        33\n",
      "                Sleep Medicine       0.25      0.25      0.25         4\n",
      "             Speech - Language       0.00      0.00      0.00         2\n",
      "                       Surgery       0.21      0.23      0.22       218\n",
      "                       Urology       0.13      0.13      0.13        31\n",
      "\n",
      "                      accuracy                           0.13       994\n",
      "                     macro avg       0.06      0.06      0.06       994\n",
      "                  weighted avg       0.12      0.13      0.12       994\n",
      "\n",
      "Confusion Matrix:\n",
      " [[ 0  0  0 ...  0  0  0]\n",
      " [ 0  0  0 ...  0  1  0]\n",
      " [ 0  0  0 ...  0  2  0]\n",
      " ...\n",
      " [ 0  0  0 ...  0  0  0]\n",
      " [ 0  0  0 ...  0 50 15]\n",
      " [ 0  0  0 ...  0 17  4]]\n"
     ]
    },
    {
     "name": "stderr",
     "output_type": "stream",
     "text": [
      "c:\\Users\\HomePC\\Documents\\DA Projects\\Med NLP classification Proj\\venv\\Lib\\site-packages\\sklearn\\metrics\\_classification.py:1731: UndefinedMetricWarning: Precision is ill-defined and being set to 0.0 in labels with no predicted samples. Use `zero_division` parameter to control this behavior.\n",
      "  _warn_prf(average, modifier, f\"{metric.capitalize()} is\", result.shape[0])\n",
      "c:\\Users\\HomePC\\Documents\\DA Projects\\Med NLP classification Proj\\venv\\Lib\\site-packages\\sklearn\\metrics\\_classification.py:1731: UndefinedMetricWarning: Precision is ill-defined and being set to 0.0 in labels with no predicted samples. Use `zero_division` parameter to control this behavior.\n",
      "  _warn_prf(average, modifier, f\"{metric.capitalize()} is\", result.shape[0])\n",
      "c:\\Users\\HomePC\\Documents\\DA Projects\\Med NLP classification Proj\\venv\\Lib\\site-packages\\sklearn\\metrics\\_classification.py:1731: UndefinedMetricWarning: Precision is ill-defined and being set to 0.0 in labels with no predicted samples. Use `zero_division` parameter to control this behavior.\n",
      "  _warn_prf(average, modifier, f\"{metric.capitalize()} is\", result.shape[0])\n"
     ]
    },
    {
     "name": "stdout",
     "output_type": "stream",
     "text": [
      "Final model and vectorizer saved successfully.\n"
     ]
    }
   ],
   "source": [
    "# Final evaluation and saving the tuned model\n",
    "\n",
    "import joblib\n",
    "from sklearn.metrics import classification_report, confusion_matrix\n",
    "\n",
    "# Select the best model (prefer randomized search result if available), otherwise fallback to clf\n",
    "try:\n",
    "    best_model = random_search.best_estimator_\n",
    "except NameError:\n",
    "    best_model = clf\n",
    "\n",
    "# Evaluating tuned model on test data\n",
    "y_pred = best_model.predict(x_test_embeddings)\n",
    "\n",
    "# Evaluation metrics\n",
    "print('Final test Accuracy:', accuracy_score(y_test, y_pred))\n",
    "print('Final test F1 Score:', f1_score(y_test, y_pred, average='weighted'))\n",
    "print('\\nFinal Classification Report:\\n', classification_report(y_test, y_pred, target_names=le.classes_))\n",
    "print('Confusion Matrix:\\n', confusion_matrix(y_test, y_pred))\n",
    "\n",
    "# Save the final model and vectorizer\n",
    "joblib.dump(best_model, 'C:/Users/HomePC/Documents/DA Projects/Med NLP Classification Proj/models/final_gradientboost_model.pkl')\n",
    "tfidf = joblib.load(\"C:/Users/HomePC/Documents/DA Projects/Med NLP classification Proj/models/tfidf_vectorizer.pkl\")\n",
    "\n",
    "from pathlib import Path\n",
    "\n",
    "models_dir = Path(\"C:/Users/HomePC/Documents/DA Projects/Med NLP Classification Proj/models\")\n",
    "models_dir.mkdir(parents=True, exist_ok=True)\n",
    "\n",
    "# ensure 'tfidf' is defined or loaded before this line\n",
    "joblib.dump(tfidf, models_dir / \"final_tfidf_vectorizer.pkl\")\n",
    "\n",
    "print(\"Final model and vectorizer saved successfully.\")\n"
   ]
  },
  {
   "cell_type": "code",
   "execution_count": 27,
   "id": "76a35494",
   "metadata": {},
   "outputs": [
    {
     "name": "stdout",
     "output_type": "stream",
     "text": [
      "Top 10 Performing Classes:\n",
      "\n",
      "                             precision    recall  f1-score     support\n",
      " Pain Management              0.461538  0.500000  0.480000   12.000000\n",
      " Sleep Medicine               0.250000  0.250000  0.250000    4.000000\n",
      " Surgery                      0.205761  0.229358  0.216920  218.000000\n",
      " Obstetrics / Gynecology      0.153846  0.193548  0.171429   31.000000\n",
      " Gastroenterology             0.145455  0.177778  0.160000   45.000000\n",
      " Cardiovascular / Pulmonary   0.153846  0.135135  0.143885   74.000000\n",
      " Orthopedic                   0.136364  0.126761  0.131387   71.000000\n",
      " Urology                      0.129032  0.129032  0.129032   31.000000\n",
      "accuracy                      0.128773  0.128773  0.128773    0.128773\n",
      " General Medicine             0.142857  0.115385  0.127660   52.000000\n",
      "\n",
      "Lowest 10 Performing Classes:\n",
      "\n",
      "                           precision  recall  f1-score  support\n",
      "Hospice - Palliative Care        0.0     0.0       0.0      1.0\n",
      "IME-QME-Work Comp etc.           0.0     0.0       0.0      3.0\n",
      "Emergency Room Reports           0.0     0.0       0.0     15.0\n",
      "Endocrinology                    0.0     0.0       0.0      4.0\n",
      "Rheumatology                     0.0     0.0       0.0      2.0\n",
      "Physical Medicine - Rehab        0.0     0.0       0.0      4.0\n",
      "Pediatrics - Neonatal            0.0     0.0       0.0     14.0\n",
      "Psychiatry / Psychology          0.0     0.0       0.0     11.0\n",
      "Podiatry                         0.0     0.0       0.0      9.0\n",
      "Speech - Language                0.0     0.0       0.0      2.0\n"
     ]
    },
    {
     "data": {
      "image/png": "[encoded data removed]",
      "text/plain": [
       "<Figure size 1200x1000 with 2 Axes>"
      ]
     },
     "metadata": {},
     "output_type": "display_data"
    },
    {
     "name": "stdout",
     "output_type": "stream",
     "text": [
      "\n",
      "Total misclassified samples: 866\n",
      "\n",
      "Text: duplex ultrasound leg right leg duplex imaging carried according normal protocol mhz imaging probe using b mode ultrasound deep vein imaged level common femoral popliteal vein deep vein demonstrated compressibility without evidence intraluminal thrombus increased echogenicity long saphenous system d...\n",
      "True Label: 3\n",
      "Predicted Label: 33\n",
      "\n",
      "Text: exam three view right foot reason exam right foot trauma finding three view right foot obtained comparison study evidence fracture dislocation significant degenerative change obstructive osseous lesion identified radiopaque foreign body impression negative right foot...\n",
      "True Label: 33\n",
      "Predicted Label: 27\n",
      "\n",
      "Text: cc seizure hx patient initially evaluated uihc year age well month prior evaluation started spell described dizzy spell lasting several second one minute duration occurred quite infrequently able resume activity immediately following episode spell became frequent prolonged time initial evaluation oc...\n",
      "True Label: 22\n",
      "Predicted Label: 33\n",
      "\n",
      "Text: consult request medical management patient special procedure hour unable examine history present illness obtained dr year old white female right handed history large stroke right brain causing left body finding last night unfortunately outside window emergent treatment negative ct scan head started ...\n",
      "True Label: 5\n",
      "Predicted Label: 3\n",
      "\n",
      "Text: reason visit followup laparoscopic fundoplication gastrostomy history present illness patient delightful baby girl nearly month age tracheostomy subglottic stenosis laparoscopic fundoplication gastrostomy done need enteral feeding access protect airway time either going heal enough improve allow dec...\n",
      "True Label: 29\n",
      "Predicted Label: 38\n"
     ]
    }
   ],
   "source": [
    "# Error analysis and Performance Insights\n",
    "\n",
    "import numpy as np\n",
    "import matplotlib.pyplot as plt\n",
    "import seaborn as sns\n",
    "from sklearn.metrics import confusion_matrix, classification_report\n",
    "from sklearn.metrics import classification_report\n",
    "\n",
    "# Get predictions for clarity\n",
    "y_pred = best_model.predict(x_test_embeddings)\n",
    "\n",
    "# Creating a df friendly label mapping\n",
    "unique_labels = np.unique(y_test)\n",
    "\n",
    "# Build a DataFrame from the classification report\n",
    "report_dict = classification_report(y_test, y_pred, target_names=le.classes_, output_dict=True, zero_division=0)\n",
    "report_df = pd.DataFrame(report_dict).transpose()\n",
    "\n",
    "# Show Class-level Summary\n",
    "report_df = report_df.sort_values(by='f1-score', ascending=False)\n",
    "print('Top 10 Performing Classes:\\n')\n",
    "print(report_df.head(10))\n",
    "\n",
    "print('\\nLowest 10 Performing Classes:\\n')\n",
    "print(report_df.tail(10))\n",
    "\n",
    "# Confusion Matrix Visualization\n",
    "cm = confusion_matrix(y_test, y_pred, labels=unique_labels)\n",
    "plt.figure(figsize=(12,10))\n",
    "sns.heatmap(cm, cmap='Blues', xticklabels=unique_labels, yticklabels=unique_labels)\n",
    "plt.xlabel('Predicted Labels')\n",
    "plt.ylabel('True Labels')\n",
    "plt.tight_layout()\n",
    "plt.show()\n",
    "\n",
    "# Inspecting a few misclassified samples\n",
    "errors = np.where(y_test != y_pred)[0]\n",
    "print(f'\\nTotal misclassified samples: {len(errors)}')\n",
    "\n",
    "for i in errors[:5]:  \n",
    "    print(f'\\nText: {x_test.iloc[i][:300]}...')\n",
    "    print(f'True Label: {y_test.iloc[i]}')\n",
    "    print(f'Predicted Label: {y_pred[i]}')"
   ]
  }
 ],
 "metadata": {
  "kernelspec": {
   "display_name": "venv",
   "language": "python",
   "name": "python3"
  },
  "language_info": {
   "codemirror_mode": {
    "name": "ipython",
    "version": 3
   },
   "file_extension": ".py",
   "mimetype": "text/x-python",
   "name": "python",
   "nbconvert_exporter": "python",
   "pygments_lexer": "ipython3",
   "version": "3.13.7"
  }
 },
 "nbformat": 4,
 "nbformat_minor": 5
}
