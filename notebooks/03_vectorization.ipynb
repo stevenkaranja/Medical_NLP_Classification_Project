{
 "cells": [
  {
   "cell_type": "code",
   "execution_count": 1,
   "id": "4607243d",
   "metadata": {},
   "outputs": [
    {
     "data": {
      "text/html": [
       "<div>\n",
       "<style scoped>\n",
       "    .dataframe tbody tr th:only-of-type {\n",
       "        vertical-align: middle;\n",
       "    }\n",
       "\n",
       "    .dataframe tbody tr th {\n",
       "        vertical-align: top;\n",
       "    }\n",
       "\n",
       "    .dataframe thead th {\n",
       "        text-align: right;\n",
       "    }\n",
       "</style>\n",
       "<table border=\"1\" class=\"dataframe\">\n",
       "  <thead>\n",
       "    <tr style=\"text-align: right;\">\n",
       "      <th></th>\n",
       "      <th>medical_specialty</th>\n",
       "      <th>transcription</th>\n",
       "      <th>cleaned_text</th>\n",
       "    </tr>\n",
       "  </thead>\n",
       "  <tbody>\n",
       "    <tr>\n",
       "      <th>0</th>\n",
       "      <td>Allergy / Immunology</td>\n",
       "      <td>SUBJECTIVE:,  This 23-year-old white female pr...</td>\n",
       "      <td>subjective year old white female present compl...</td>\n",
       "    </tr>\n",
       "    <tr>\n",
       "      <th>1</th>\n",
       "      <td>Bariatrics</td>\n",
       "      <td>PAST MEDICAL HISTORY:, He has difficulty climb...</td>\n",
       "      <td>past medical history difficulty climbing stair...</td>\n",
       "    </tr>\n",
       "    <tr>\n",
       "      <th>2</th>\n",
       "      <td>Bariatrics</td>\n",
       "      <td>HISTORY OF PRESENT ILLNESS: , I have seen ABC ...</td>\n",
       "      <td>history present illness seen abc today pleasan...</td>\n",
       "    </tr>\n",
       "    <tr>\n",
       "      <th>3</th>\n",
       "      <td>Cardiovascular / Pulmonary</td>\n",
       "      <td>2-D M-MODE: , ,1.  Left atrial enlargement wit...</td>\n",
       "      <td>mode left atrial enlargement left atrial diame...</td>\n",
       "    </tr>\n",
       "    <tr>\n",
       "      <th>4</th>\n",
       "      <td>Cardiovascular / Pulmonary</td>\n",
       "      <td>1.  The left ventricular cavity size and wall ...</td>\n",
       "      <td>left ventricular cavity size wall thickness ap...</td>\n",
       "    </tr>\n",
       "  </tbody>\n",
       "</table>\n",
       "</div>"
      ],
      "text/plain": [
       "             medical_specialty  \\\n",
       "0         Allergy / Immunology   \n",
       "1                   Bariatrics   \n",
       "2                   Bariatrics   \n",
       "3   Cardiovascular / Pulmonary   \n",
       "4   Cardiovascular / Pulmonary   \n",
       "\n",
       "                                       transcription  \\\n",
       "0  SUBJECTIVE:,  This 23-year-old white female pr...   \n",
       "1  PAST MEDICAL HISTORY:, He has difficulty climb...   \n",
       "2  HISTORY OF PRESENT ILLNESS: , I have seen ABC ...   \n",
       "3  2-D M-MODE: , ,1.  Left atrial enlargement wit...   \n",
       "4  1.  The left ventricular cavity size and wall ...   \n",
       "\n",
       "                                        cleaned_text  \n",
       "0  subjective year old white female present compl...  \n",
       "1  past medical history difficulty climbing stair...  \n",
       "2  history present illness seen abc today pleasan...  \n",
       "3  mode left atrial enlargement left atrial diame...  \n",
       "4  left ventricular cavity size wall thickness ap...  "
      ]
     },
     "execution_count": 1,
     "metadata": {},
     "output_type": "execute_result"
    }
   ],
   "source": [
    "import pandas as pd\n",
    "from sklearn.model_selection import train_test_split\n",
    "from sklearn.feature_extraction.text import TfidfVectorizer\n",
    "\n",
    "# loading the cleaned dataset\n",
    "df = pd.read_csv('C:/Users/HomePC/Documents/DA Projects/Med NLP classification Proj/data/processed/cleaned_mtsamples.csv')\n",
    "\n",
    "# drop nulls if any\n",
    "df.dropna(subset=['cleaned_text', 'medical_specialty'])\n",
    "\n",
    "df.head()"
   ]
  },
  {
   "cell_type": "code",
   "execution_count": 3,
   "id": "00f7ed5d",
   "metadata": {},
   "outputs": [
    {
     "data": {
      "text/plain": [
       "{' Allergy / Immunology': 0,\n",
       " ' Autopsy': 1,\n",
       " ' Bariatrics': 2,\n",
       " ' Cardiovascular / Pulmonary': 3,\n",
       " ' Chiropractic': 4,\n",
       " ' Consult - History and Phy.': 5,\n",
       " ' Cosmetic / Plastic Surgery': 6,\n",
       " ' Dentistry': 7,\n",
       " ' Dermatology': 8,\n",
       " ' Diets and Nutritions': 9,\n",
       " ' Discharge Summary': 10,\n",
       " ' ENT - Otolaryngology': 11,\n",
       " ' Emergency Room Reports': 12,\n",
       " ' Endocrinology': 13,\n",
       " ' Gastroenterology': 14,\n",
       " ' General Medicine': 15,\n",
       " ' Hematology - Oncology': 16,\n",
       " ' Hospice - Palliative Care': 17,\n",
       " ' IME-QME-Work Comp etc.': 18,\n",
       " ' Lab Medicine - Pathology': 19,\n",
       " ' Letters': 20,\n",
       " ' Nephrology': 21,\n",
       " ' Neurology': 22,\n",
       " ' Neurosurgery': 23,\n",
       " ' Obstetrics / Gynecology': 24,\n",
       " ' Office Notes': 25,\n",
       " ' Ophthalmology': 26,\n",
       " ' Orthopedic': 27,\n",
       " ' Pain Management': 28,\n",
       " ' Pediatrics - Neonatal': 29,\n",
       " ' Physical Medicine - Rehab': 30,\n",
       " ' Podiatry': 31,\n",
       " ' Psychiatry / Psychology': 32,\n",
       " ' Radiology': 33,\n",
       " ' Rheumatology': 34,\n",
       " ' SOAP / Chart / Progress Notes': 35,\n",
       " ' Sleep Medicine': 36,\n",
       " ' Speech - Language': 37,\n",
       " ' Surgery': 38,\n",
       " ' Urology': 39}"
      ]
     },
     "execution_count": 3,
     "metadata": {},
     "output_type": "execute_result"
    }
   ],
   "source": [
    "# Preparing Inputs and Labels\n",
    "\n",
    "from sklearn.calibration import LabelEncoder\n",
    "\n",
    "\n",
    "x = df['cleaned_text']\n",
    "y = df['medical_specialty']\n",
    "\n",
    "le = LabelEncoder()\n",
    "y_encoded = le.fit_transform(y)\n",
    "\n",
    "#check encoding\n",
    "dict(list(zip(le.classes_, range(len(le.classes_)))))"
   ]
  },
  {
   "cell_type": "code",
   "execution_count": 11,
   "id": "991f71a3",
   "metadata": {},
   "outputs": [],
   "source": [
    "# Split Train and Test sets\n",
    "\n",
    "x_train, x_test, y_train, y_test = train_test_split(x, y_encoded, test_size=0.2, random_state=42, stratify=y_encoded)"
   ]
  },
  {
   "cell_type": "code",
   "execution_count": 5,
   "id": "b576eb1d",
   "metadata": {},
   "outputs": [
    {
     "name": "stdout",
     "output_type": "stream",
     "text": [
      "Train shape: (3972, 10000)\n",
      "Test shape: (994, 10000)\n"
     ]
    }
   ],
   "source": [
    "#TF-IDF Vectorization\n",
    "\n",
    "tfidf = TfidfVectorizer(\n",
    "    max_features=10000,   # limit vocab size\n",
    "    ngram_range=(1, 2),   # include unigrams and bigrams\n",
    "    min_df=2,             # ignore very rare words\n",
    "    max_df=0.9            # ignore very common words\n",
    ")\n",
    "\n",
    "X_train_tfidf = tfidf.fit_transform(x_train)\n",
    "X_test_tfidf = tfidf.transform(x_test)\n",
    "\n",
    "print('Train shape:', X_train_tfidf.shape)\n",
    "print('Test shape:', X_test_tfidf.shape)"
   ]
  },
  {
   "cell_type": "code",
   "execution_count": 6,
   "id": "273710bc",
   "metadata": {},
   "outputs": [
    {
     "name": "stdout",
     "output_type": "stream",
     "text": [
      "Sample feature names: ['abc' 'abc year' 'abcd' 'abcd general' 'abcd hospital' 'abd' 'abdomen'\n",
      " 'abdomen abdomen' 'abdomen benign' 'abdomen insufflated'\n",
      " 'abdomen nontender' 'abdomen obese' 'abdomen pelvis' 'abdomen positive'\n",
      " 'abdomen prepped' 'abdomen soft' 'abdomen without' 'abdominal'\n",
      " 'abdominal aorta' 'abdominal aortic']\n"
     ]
    }
   ],
   "source": [
    "# Sanity check\n",
    "\n",
    "feature_names = tfidf.get_feature_names_out()\n",
    "print('Sample feature names:', feature_names[:20])"
   ]
  },
  {
   "cell_type": "code",
   "execution_count": 12,
   "id": "c159f1d4",
   "metadata": {},
   "outputs": [
    {
     "data": {
      "text/plain": [
       "['C:/Users/HomePC/Documents/DA Projects/Med NLP classification Proj/models/vectorized_data.pkl']"
      ]
     },
     "execution_count": 12,
     "metadata": {},
     "output_type": "execute_result"
    }
   ],
   "source": [
    "# Save Processed Objects\n",
    "\n",
    "import joblib\n",
    "\n",
    "joblib.dump(tfidf, 'C:/Users/HomePC/Documents/DA Projects/Med NLP classification Proj/models/tfidf_vectorizer.pkl')\n",
    "joblib.dump(le, 'C:/Users/HomePC/Documents/DA Projects/Med NLP classification Proj/models/label_encoder.pkl')\n",
    "joblib.dump((X_train_tfidf, y_train), 'C:/Users/HomePC/Documents/DA Projects/Med NLP classification Proj/models/vectorized_data.pkl')\n"
   ]
  },
  {
   "cell_type": "code",
   "execution_count": 13,
   "id": "940d0ea4",
   "metadata": {},
   "outputs": [
    {
     "data": {
      "image/png": "[encoded data removed]",
      "text/plain": [
       "<Figure size 640x480 with 1 Axes>"
      ]
     },
     "metadata": {},
     "output_type": "display_data"
    }
   ],
   "source": [
    "# Viz top words per specialty\n",
    "\n",
    "import numpy as np\n",
    "import matplotlib.pyplot as plt\n",
    "\n",
    "def show_top_words_for_label(label_id, n=10):\n",
    "    label_name = le.inverse_transform([label_id])[0]\n",
    "    subset =df[df['medical_specialty'] == label_name]['cleaned_text']\n",
    "    tfidf_local = TfidfVectorizer(max_features=1000, stop_words='english').fit(subset)\n",
    "    freqs = tfidf_local.get_feature_names_out()\n",
    "    plt.title(f'Top {n} words for: {label_name}')\n",
    "    plt.barh(freqs[:n], range(n))\n",
    "    plt.show()\n",
    "\n",
    "show_top_words_for_label(0)  "
   ]
  },
  {
   "cell_type": "code",
   "execution_count": null,
   "id": "f4fe28cd",
   "metadata": {},
   "outputs": [
    {
     "name": "stdout",
     "output_type": "stream",
     "text": [
      "Using X variable \"X_train_tfidf\" and y variable \"y_train\"\n",
      "Creating train/test split from X and y (80/20).\n",
      "Saved vectorized_data.pkl -> C:\\Users\\HomePC\\Documents\\DA Projects\\Med NLP classification Proj\\models\\vectorized_data.pkl\n",
      "X_train: <class 'scipy.sparse._csr.csr_matrix'> unknown\n",
      "X_test: <class 'scipy.sparse._csr.csr_matrix'> unknown\n",
      "y_train len: 3177\n",
      "y_test len: 795\n"
     ]
    }
   ],
   "source": [
    "# Save vectorized data as a 4-tuple (X_train, X_test, y_train, y_test)\n",
    "# This cell attempts to find the vectorized X and target y in the current notebook and will create a train/test split if needed, then write models/vectorized_data.pkl\n",
    "\n",
    "import joblib\n",
    "from pathlib import Path\n",
    "from sklearn.model_selection import train_test_split\n",
    "\n",
    "p = Path(r'C:/Users/HomePC/Documents/DA Projects/Med NLP classification Proj/models/vectorized_data.pkl')\n",
    "ns = globals()\n",
    "\n",
    "# Candidate variable names to look for in the notebook namespace\n",
    "candidate_X = ['X_train_tfidf','X_tfidf','X_vectors','X_vectorized','X','X_all']\n",
    "candidate_y = ['y_train','y','y_all','labels','y_vector']\n",
    "\n",
    "found_X = None\n",
    "found_y = None\n",
    "found_X_name = None\n",
    "found_y_name = None\n",
    "\n",
    "for name in candidate_X:\n",
    "    if name in ns:\n",
    "        found_X = ns[name]\n",
    "        found_X_name = name\n",
    "        break\n",
    "\n",
    "for name in candidate_y:\n",
    "    if name in ns:\n",
    "        found_y = ns[name]\n",
    "        found_y_name = name\n",
    "        break\n",
    "\n",
    "if found_X is None or found_y is None:\n",
    "    available = sorted([k for k in ns.keys() if isinstance(k, str) and (k.lower().startswith('x') or k.lower().startswith('y') or 'label' in k.lower())])\n",
    "    print('Could not automatically find both X and y variables.')\n",
    "    print('Found X:', found_X_name)\n",
    "    print('Found y:', found_y_name)\n",
    "    print('Available likely names in the notebook namespace:', available)\n",
    "    raise RuntimeError('Please run previous cells that create the vectorized features (X) and target (y), or rename them to a recognized name.')\n",
    "\n",
    "X = found_X\n",
    "y = found_y\n",
    "print(f'Using X variable \"{found_X_name}\" and y variable \"{found_y_name}\"')\n",
    "\n",
    "# If X is already a 4-tuple saved in a variable, handle that\n",
    "if isinstance(X, (list, tuple)) and len(X) == 4 and (found_X_name.lower().startswith('vector') or found_X_name.lower().startswith('x_')):\n",
    "    # unlikely, but if X itself is the 4-tuple\n",
    "    X_train_tfidf, X_test_tfidf, y_train, y_test = X\n",
    "    print('Detected X variable already contains 4-tuple; unpacked it.')\n",
    "else:\n",
    "    # If X is a tuple/list of length 2 and y is also tuple/list length 2, assume already split\n",
    "    if isinstance(X, (list, tuple)) and len(X) == 2 and isinstance(y, (list, tuple)) and len(y) == 2:\n",
    "        X_train_tfidf, X_test_tfidf = X\n",
    "        y_train, y_test = y\n",
    "        print('Detected (X_train, X_test) and (y_train, y_test) structures; using them directly.')\n",
    "    else:\n",
    "        # Otherwise create a train/test split from X and y\n",
    "        print('Creating train/test split from X and y (80/20).')\n",
    "        X_train_tfidf, X_test_tfidf, y_train, y_test = train_test_split(X, y, test_size=0.2, random_state=42)\n",
    "\n",
    "# Save the 4-tuple\n",
    "p.parent.mkdir(parents=True, exist_ok=True)\n",
    "joblib.dump((X_train_tfidf, X_test_tfidf, y_train, y_test), p)\n",
    "print('Saved vectorized_data.pkl ->', p)\n",
    "\n",
    "# Print shapes / lengths for verification\n",
    "def _shape(x):\n",
    "    try:\n",
    "        return getattr(x, 'shape', len(x))\n",
    "    except Exception:\n",
    "        return 'unknown'\n",
    "\n",
    "print('X_train:', type(X_train_tfidf), _shape(X_train_tfidf))\n",
    "print('X_test:', type(X_test_tfidf), _shape(X_test_tfidf))\n",
    "print('y_train len:', len(y_train))\n",
    "print('y_test len:', len(y_test))\n"
   ]
  }
 ],
 "metadata": {
  "kernelspec": {
   "display_name": "venv",
   "language": "python",
   "name": "python3"
  },
  "language_info": {
   "codemirror_mode": {
    "name": "ipython",
    "version": 3
   },
   "file_extension": ".py",
   "mimetype": "text/x-python",
   "name": "python",
   "nbconvert_exporter": "python",
   "pygments_lexer": "ipython3",
   "version": "3.13.7"
  }
 },
 "nbformat": 4,
 "nbformat_minor": 5
}
